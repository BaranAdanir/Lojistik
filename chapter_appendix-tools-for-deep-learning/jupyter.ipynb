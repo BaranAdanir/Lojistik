{
  "cells": [
    {
      "cell_type": "code",
      "source": [
        "import cv2\n",
        "import numpy as np\n",
        "import matplotlib.pyplot as plt\n",
        "\n",
        "\n",
        "class Image:\n",
        "    def __init__(self, file_path, title):\n",
        "        self.image = cv2.imread(file_path, cv2.IMREAD_COLOR)\n",
        "        self.image = cv2.cvtColor(self.image, cv2.COLOR_BGR2RGB)\n",
        "        self.title = title\n",
        "\n",
        "    def display(self):\n",
        "        plt.imshow(self.image)\n",
        "        plt.title(self.title)\n",
        "        plt.axis(\"off\")\n",
        "        plt.show()\n",
        "\n",
        "    def get_image(self):\n",
        "        \"\"\"\n",
        "        Returns the image data.\n",
        "        \"\"\"\n",
        "        return self.image\n"
      ],
      "metadata": {
        "id": "yToNofREn3ff"
      },
      "id": "yToNofREn3ff",
      "execution_count": null,
      "outputs": []
    }
  ],
  "metadata": {
    "kernelspec": {
      "display_name": "Python 3",
      "name": "python3"
    },
    "language_info": {
      "name": "python"
    },
    "required_libs": [],
    "colab": {
      "provenance": []
    }
  },
  "nbformat": 4,
  "nbformat_minor": 5
}